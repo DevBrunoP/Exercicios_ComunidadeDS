{
 "cells": [
  {
   "cell_type": "markdown",
   "id": "a08b4622",
   "metadata": {},
   "source": [
    "# Ciclo 01 - Fundamentos\n",
    "---\n",
    "## Aula 09: Respondendo as perguntas de negócio"
   ]
  },
  {
   "cell_type": "code",
   "execution_count": 3,
   "id": "8c1345aa",
   "metadata": {},
   "outputs": [
    {
     "data": {
      "text/html": [
       "<div>\n",
       "<style scoped>\n",
       "    .dataframe tbody tr th:only-of-type {\n",
       "        vertical-align: middle;\n",
       "    }\n",
       "\n",
       "    .dataframe tbody tr th {\n",
       "        vertical-align: top;\n",
       "    }\n",
       "\n",
       "    .dataframe thead th {\n",
       "        text-align: right;\n",
       "    }\n",
       "</style>\n",
       "<table border=\"1\" class=\"dataframe\">\n",
       "  <thead>\n",
       "    <tr style=\"text-align: right;\">\n",
       "      <th></th>\n",
       "      <th>id</th>\n",
       "      <th>name</th>\n",
       "      <th>host_id</th>\n",
       "      <th>host_name</th>\n",
       "      <th>neighbourhood_group</th>\n",
       "      <th>neighbourhood</th>\n",
       "      <th>latitude</th>\n",
       "      <th>longitude</th>\n",
       "      <th>room_type</th>\n",
       "      <th>price</th>\n",
       "      <th>minimum_nights</th>\n",
       "      <th>number_of_reviews</th>\n",
       "      <th>last_review</th>\n",
       "      <th>reviews_per_month</th>\n",
       "      <th>calculated_host_listings_count</th>\n",
       "      <th>availability_365</th>\n",
       "    </tr>\n",
       "  </thead>\n",
       "  <tbody>\n",
       "    <tr>\n",
       "      <th>0</th>\n",
       "      <td>2539</td>\n",
       "      <td>Clean &amp; quiet apt home by the park</td>\n",
       "      <td>2787</td>\n",
       "      <td>John</td>\n",
       "      <td>Brooklyn</td>\n",
       "      <td>Kensington</td>\n",
       "      <td>40.64749</td>\n",
       "      <td>-73.97237</td>\n",
       "      <td>Private room</td>\n",
       "      <td>149</td>\n",
       "      <td>1</td>\n",
       "      <td>9</td>\n",
       "      <td>2018-10-19</td>\n",
       "      <td>0.21</td>\n",
       "      <td>6</td>\n",
       "      <td>365</td>\n",
       "    </tr>\n",
       "    <tr>\n",
       "      <th>1</th>\n",
       "      <td>2595</td>\n",
       "      <td>Skylit Midtown Castle</td>\n",
       "      <td>2845</td>\n",
       "      <td>Jennifer</td>\n",
       "      <td>Manhattan</td>\n",
       "      <td>Midtown</td>\n",
       "      <td>40.75362</td>\n",
       "      <td>-73.98377</td>\n",
       "      <td>Entire home/apt</td>\n",
       "      <td>225</td>\n",
       "      <td>1</td>\n",
       "      <td>45</td>\n",
       "      <td>2019-05-21</td>\n",
       "      <td>0.38</td>\n",
       "      <td>2</td>\n",
       "      <td>355</td>\n",
       "    </tr>\n",
       "    <tr>\n",
       "      <th>2</th>\n",
       "      <td>3647</td>\n",
       "      <td>THE VILLAGE OF HARLEM....NEW YORK !</td>\n",
       "      <td>4632</td>\n",
       "      <td>Elisabeth</td>\n",
       "      <td>Manhattan</td>\n",
       "      <td>Harlem</td>\n",
       "      <td>40.80902</td>\n",
       "      <td>-73.94190</td>\n",
       "      <td>Private room</td>\n",
       "      <td>150</td>\n",
       "      <td>3</td>\n",
       "      <td>0</td>\n",
       "      <td>NaN</td>\n",
       "      <td>NaN</td>\n",
       "      <td>1</td>\n",
       "      <td>365</td>\n",
       "    </tr>\n",
       "    <tr>\n",
       "      <th>3</th>\n",
       "      <td>3831</td>\n",
       "      <td>Cozy Entire Floor of Brownstone</td>\n",
       "      <td>4869</td>\n",
       "      <td>LisaRoxanne</td>\n",
       "      <td>Brooklyn</td>\n",
       "      <td>Clinton Hill</td>\n",
       "      <td>40.68514</td>\n",
       "      <td>-73.95976</td>\n",
       "      <td>Entire home/apt</td>\n",
       "      <td>89</td>\n",
       "      <td>1</td>\n",
       "      <td>270</td>\n",
       "      <td>2019-07-05</td>\n",
       "      <td>4.64</td>\n",
       "      <td>1</td>\n",
       "      <td>194</td>\n",
       "    </tr>\n",
       "    <tr>\n",
       "      <th>4</th>\n",
       "      <td>5022</td>\n",
       "      <td>Entire Apt: Spacious Studio/Loft by central park</td>\n",
       "      <td>7192</td>\n",
       "      <td>Laura</td>\n",
       "      <td>Manhattan</td>\n",
       "      <td>East Harlem</td>\n",
       "      <td>40.79851</td>\n",
       "      <td>-73.94399</td>\n",
       "      <td>Entire home/apt</td>\n",
       "      <td>80</td>\n",
       "      <td>10</td>\n",
       "      <td>9</td>\n",
       "      <td>2018-11-19</td>\n",
       "      <td>0.10</td>\n",
       "      <td>1</td>\n",
       "      <td>0</td>\n",
       "    </tr>\n",
       "  </tbody>\n",
       "</table>\n",
       "</div>"
      ],
      "text/plain": [
       "     id                                              name  host_id  \\\n",
       "0  2539                Clean & quiet apt home by the park     2787   \n",
       "1  2595                             Skylit Midtown Castle     2845   \n",
       "2  3647               THE VILLAGE OF HARLEM....NEW YORK !     4632   \n",
       "3  3831                   Cozy Entire Floor of Brownstone     4869   \n",
       "4  5022  Entire Apt: Spacious Studio/Loft by central park     7192   \n",
       "\n",
       "     host_name neighbourhood_group neighbourhood  latitude  longitude  \\\n",
       "0         John            Brooklyn    Kensington  40.64749  -73.97237   \n",
       "1     Jennifer           Manhattan       Midtown  40.75362  -73.98377   \n",
       "2    Elisabeth           Manhattan        Harlem  40.80902  -73.94190   \n",
       "3  LisaRoxanne            Brooklyn  Clinton Hill  40.68514  -73.95976   \n",
       "4        Laura           Manhattan   East Harlem  40.79851  -73.94399   \n",
       "\n",
       "         room_type  price  minimum_nights  number_of_reviews last_review  \\\n",
       "0     Private room    149               1                  9  2018-10-19   \n",
       "1  Entire home/apt    225               1                 45  2019-05-21   \n",
       "2     Private room    150               3                  0         NaN   \n",
       "3  Entire home/apt     89               1                270  2019-07-05   \n",
       "4  Entire home/apt     80              10                  9  2018-11-19   \n",
       "\n",
       "   reviews_per_month  calculated_host_listings_count  availability_365  \n",
       "0               0.21                               6               365  \n",
       "1               0.38                               2               355  \n",
       "2                NaN                               1               365  \n",
       "3               4.64                               1               194  \n",
       "4               0.10                               1                 0  "
      ]
     },
     "execution_count": 3,
     "metadata": {},
     "output_type": "execute_result"
    }
   ],
   "source": [
    "import pandas as pd #Importação do pandas e definindo um apelido\n",
    "\n",
    "df = pd.read_csv(\"AB_NYC_2019.csv\")\n",
    "df.head()"
   ]
  },
  {
   "cell_type": "markdown",
   "id": "f0c5e5bb",
   "metadata": {},
   "source": [
    "1.  **Qual o valor médio do aluguel na cidade de Nova York?**"
   ]
  },
  {
   "cell_type": "code",
   "execution_count": 2,
   "id": "c1e711da",
   "metadata": {},
   "outputs": [
    {
     "name": "stdout",
     "output_type": "stream",
     "text": [
      "152.7206871868289\n"
     ]
    }
   ],
   "source": [
    "print(df[\"price\"].mean())"
   ]
  },
  {
   "cell_type": "markdown",
   "id": "044b37ef",
   "metadata": {},
   "source": [
    "2. **Quais os nomes das regiões que existem na cidade de Nova York?**"
   ]
  },
  {
   "cell_type": "code",
   "execution_count": 5,
   "id": "f4c65046",
   "metadata": {},
   "outputs": [
    {
     "name": "stdout",
     "output_type": "stream",
     "text": [
      "['Brooklyn' 'Manhattan' 'Queens' 'Staten Island' 'Bronx']\n"
     ]
    }
   ],
   "source": [
    "print(df[\"neighbourhood_group\"].unique())"
   ]
  },
  {
   "cell_type": "markdown",
   "id": "0e245238",
   "metadata": {},
   "source": [
    "3. **Qual o valor do aluguel diário mais caro da cidade de Nova York?**"
   ]
  },
  {
   "cell_type": "code",
   "execution_count": 4,
   "id": "45e7da67",
   "metadata": {},
   "outputs": [
    {
     "name": "stdout",
     "output_type": "stream",
     "text": [
      "10000\n"
     ]
    }
   ],
   "source": [
    "print(df[\"price\"].max())"
   ]
  },
  {
   "cell_type": "markdown",
   "id": "d6c7b65e",
   "metadata": {},
   "source": [
    "## Aula 10 - Exercícios"
   ]
  },
  {
   "cell_type": "markdown",
   "id": "412c24f7",
   "metadata": {},
   "source": [
    "1. **Some o valor 10 com 30 e exiba na tela**"
   ]
  },
  {
   "cell_type": "code",
   "execution_count": 7,
   "id": "35eaf76b",
   "metadata": {},
   "outputs": [
    {
     "name": "stdout",
     "output_type": "stream",
     "text": [
      "40\n"
     ]
    }
   ],
   "source": [
    "a = 10\n",
    "b = 30\n",
    "print(a+b)"
   ]
  },
  {
   "cell_type": "markdown",
   "id": "281f1dd3",
   "metadata": {},
   "source": [
    "2. **Some os seguintes números: 10, 300, 0.4, 10**"
   ]
  },
  {
   "cell_type": "code",
   "execution_count": 8,
   "id": "4d723779",
   "metadata": {},
   "outputs": [
    {
     "name": "stdout",
     "output_type": "stream",
     "text": [
      "320.4\n"
     ]
    }
   ],
   "source": [
    "w = 10\n",
    "x = 300\n",
    "y = 0.4\n",
    "z = 10\n",
    "print(w+x+y+z)"
   ]
  },
  {
   "cell_type": "markdown",
   "id": "047ed9ce",
   "metadata": {},
   "source": [
    "3. **Desenvolva comandos em Python capaz de calcular a média harmônica entre 5 números. Por exemplo: 2, 3, 5, 6 e 9**"
   ]
  },
  {
   "cell_type": "code",
   "execution_count": 15,
   "id": "802eb4e5",
   "metadata": {},
   "outputs": [
    {
     "name": "stdout",
     "output_type": "stream",
     "text": [
      "3.8135593220338984\n"
     ]
    }
   ],
   "source": [
    "numeros = [2,3,5,6,9]\n",
    "divisao_inverso = map(lambda x: 1 / x, numeros)\n",
    "soma_inversos = sum(divisao_inverso)\n",
    "media_harmonica = len(numeros) / soma_inversos\n",
    "\n",
    "print(media_harmonica)"
   ]
  },
  {
   "cell_type": "markdown",
   "id": "325a8f23",
   "metadata": {},
   "source": [
    "4. **Um Cientista de Dados Jr precisa criar sequência de comandos que seja capaz de calcular a média ponderada dos valores digitados pelo usuário. O usuário é capaz de digitar 8 valores. O primeiro número tem peso 0.5 ,o segundo 1.0, o terceiro 1.5 até o último valor que tem peso 4, ou seja, os pesos são acrescidos de 0.5 para cada valor. Portanto, o algoritmo deve ser capaz de calcular a média ponderada dos oito valores digitados pelo usuário, cada valor com o seu respectivo peso.**\n",
    "\n",
    "    - valor_01 = input( \"Digite o primeiro valor\" )\n",
    "    - valor_02 = input( \"Digite o segundo valor\" )\n",
    "    - valor_03 = input( \"Digite o terceiro valor\" )\n",
    "    - valor_04 = input( \"Digite o quarto valor\" )"
   ]
  },
  {
   "cell_type": "code",
   "execution_count": null,
   "id": "31414773",
   "metadata": {},
   "outputs": [],
   "source": [
    "lista_de_numeros = []\n",
    "lista_de_pesos = []\n",
    "print(\"Olá! Por favor digite apenas valores numéricos ;)\")\n",
    "pesos = 0\n",
    "for i in range(1, 9):\n",
    "    try:\n",
    "        pesos = pesos + 0.5\n",
    "        numero = float(input(f\"Digite um {i}º número: \"))\n",
    "        lista_de_numeros.append(numero)\n",
    "        lista_de_pesos.append(pesos)\n",
    "    except:\n",
    "        print(\"Eu disse para digitar apenas números X(\")\n",
    "        break\n",
    "multiplicacao_com_pesos = sum(lista_de_numeros[i] * lista_de_pesos[i] for i in range(len(lista_de_numeros)))\n",
    "soma_pesos = sum(lista_de_pesos)\n",
    "media_ponderada = multiplicacao_com_pesos / soma_pesos\n",
    "print(media_ponderada)"
   ]
  },
  {
   "cell_type": "markdown",
   "id": "50c67d5a",
   "metadata": {},
   "source": [
    "5. **Um programador Jr precisa construir uma mini calculadora. Essa calculadora segue os seguintes padrões:**\n",
    "    1. Se o usuário digital um valor menor ou igual a 5, a calculadora vai multiplicar esse valor por 10 e retornar o valor resultantes para o usuário;\n",
    "    2. Se o usuário digitar um número entre 6 e 10, a calculadora multiplica por 20 o número digitado pelo usuário;\n",
    "    3. Se o usuário digitar um valor maior ou igual a 11, a calculadora soma 100 ao número digitado. Ajude o programador Jr a construir essa calculadora, fornecendo os comandos em Python para ele."
   ]
  },
  {
   "cell_type": "code",
   "execution_count": 34,
   "id": "535e7145",
   "metadata": {},
   "outputs": [
    {
     "name": "stdout",
     "output_type": "stream",
     "text": [
      "Digite um valor númerico: 1\n",
      "10.0\n"
     ]
    }
   ],
   "source": [
    "try:\n",
    "    valor_usuario = float(input(\"Digite um valor númerico: \"))\n",
    "    if valor_usuario > 10: # Se o valor for mais que 10\n",
    "        resultado_final = valor_usuario + 100\n",
    "    elif valor_usuario >=6 and valor_usuario <=10: # Se o valor for maior ou igual a 6 e menor ou igual a 10\n",
    "        resultado_final = valor_usuario * 20\n",
    "    else: # Se não o valor será menor ou igual a 5\n",
    "        resultado_final = valor_usuario * 10\n",
    "    print(resultado_final)\n",
    "except:\n",
    "    print(\"Disse para digitar apenas números :=(\")"
   ]
  },
  {
   "cell_type": "markdown",
   "id": "f9c14b8a",
   "metadata": {},
   "source": [
    "6. **Um programador Jr precisa criar um algoritmo que consiga fazer a comparação entre três valores e exibir qual é o maior e qual é o menor valor digitado. Ajude o programador desenvolvendo o código em Python**"
   ]
  },
  {
   "cell_type": "code",
   "execution_count": 39,
   "id": "78a7e0ef",
   "metadata": {},
   "outputs": [
    {
     "name": "stdout",
     "output_type": "stream",
     "text": [
      "O maior valor dentre os 3 valores é: 11, e o menor valor é: -1\n"
     ]
    }
   ],
   "source": [
    "lista_de_valores = [-1,5,11]\n",
    "print(f\"O maior valor dentre os 3 valores é: {max(lista_de_valores)}, e o menor valor é: {min(lista_de_valores)}\")"
   ]
  }
 ],
 "metadata": {
  "kernelspec": {
   "display_name": "Python 3 (ipykernel)",
   "language": "python",
   "name": "python3"
  },
  "language_info": {
   "codemirror_mode": {
    "name": "ipython",
    "version": 3
   },
   "file_extension": ".py",
   "mimetype": "text/x-python",
   "name": "python",
   "nbconvert_exporter": "python",
   "pygments_lexer": "ipython3",
   "version": "3.11.5"
  }
 },
 "nbformat": 4,
 "nbformat_minor": 5
}
